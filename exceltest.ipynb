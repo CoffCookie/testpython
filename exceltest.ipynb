{
 "cells": [
  {
   "cell_type": "code",
   "execution_count": 1,
   "metadata": {},
   "outputs": [],
   "source": [
    "import pandas as pd"
   ]
  },
  {
   "cell_type": "code",
   "execution_count": 2,
   "metadata": {},
   "outputs": [
    {
     "name": "stdout",
     "output_type": "stream",
     "text": [
      "   種類     円   冊\n",
      "0   1  1000   3\n",
      "1   1   900   4\n",
      "2   2   500  10\n",
      "3   2   600  30\n",
      "4   2   700   1\n",
      "RangeIndex(start=0, stop=5, step=1)\n",
      "Index(['種類', '円', '冊'], dtype='object')\n",
      "<class 'pandas.core.indexes.base.Index'>\n",
      "['種類', '円', '冊']\n",
      "種類\n",
      "1\n",
      "900\n"
     ]
    }
   ],
   "source": [
    "df = pd.read_excel('httptest.xlsx')\n",
    "\n",
    "print(df)\n",
    "\n",
    "print(df.index)\n",
    "print(df.columns)\n",
    "print(type(df.columns))\n",
    "print(list(df.columns))\n",
    "list_df = list(df)\n",
    "print(list_df[0])\n",
    "\n",
    "\n",
    "df = pd.DataFrame(df)\n",
    "\n",
    "print(df['種類'][1])\n",
    "print(df['円'][1])"
   ]
  },
  {
   "cell_type": "code",
   "execution_count": null,
   "metadata": {},
   "outputs": [],
   "source": []
  }
 ],
 "metadata": {
  "kernelspec": {
   "display_name": "Python 3",
   "language": "python",
   "name": "python3"
  },
  "language_info": {
   "codemirror_mode": {
    "name": "ipython",
    "version": 3
   },
   "file_extension": ".py",
   "mimetype": "text/x-python",
   "name": "python",
   "nbconvert_exporter": "python",
   "pygments_lexer": "ipython3",
   "version": "3.7.4"
  }
 },
 "nbformat": 4,
 "nbformat_minor": 2
}
