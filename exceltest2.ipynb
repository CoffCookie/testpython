{
 "cells": [
  {
   "cell_type": "code",
   "execution_count": 1,
   "metadata": {},
   "outputs": [],
   "source": [
    "import pandas as pd"
   ]
  },
  {
   "cell_type": "code",
   "execution_count": 17,
   "metadata": {},
   "outputs": [
    {
     "name": "stdout",
     "output_type": "stream",
     "text": [
      "カラム\n",
      "種類\n",
      "円\n",
      "冊\n",
      "データ\n",
      "[   1 1000    3]\n",
      "[  1 900   4]\n",
      "[  2 500  10]\n",
      "[  2 600  30]\n",
      "[  2 700   1]\n",
      "a    10\n",
      "b    20\n",
      "c    30\n",
      "d    40\n",
      "e    50\n",
      "dtype: int64\n"
     ]
    }
   ],
   "source": [
    "df = pd.read_excel('httptest.xlsx')\n",
    "\n",
    "print(\"カラム\")\n",
    "for column in df:\n",
    "    print(column)\n",
    "\n",
    "print (\"データ\")\n",
    "for data in df.values:\n",
    "    print(data)\n",
    "    data\n",
    "    \n",
    "\n",
    "data1 = pd.Series([10,20,30])\n",
    "data1 = pd.Series([10, 20, 30, 40, 50],\n",
    "                 index = [\"a\", \"b\", \"c\", \"d\", \"e\"])\n",
    "\n",
    "print(data1)\n",
    "    \n",
    "\n"
   ]
  },
  {
   "cell_type": "code",
   "execution_count": null,
   "metadata": {},
   "outputs": [],
   "source": []
  },
  {
   "cell_type": "code",
   "execution_count": null,
   "metadata": {},
   "outputs": [],
   "source": []
  }
 ],
 "metadata": {
  "kernelspec": {
   "display_name": "Python 3",
   "language": "python",
   "name": "python3"
  },
  "language_info": {
   "codemirror_mode": {
    "name": "ipython",
    "version": 3
   },
   "file_extension": ".py",
   "mimetype": "text/x-python",
   "name": "python",
   "nbconvert_exporter": "python",
   "pygments_lexer": "ipython3",
   "version": "3.7.4"
  }
 },
 "nbformat": 4,
 "nbformat_minor": 2
}
